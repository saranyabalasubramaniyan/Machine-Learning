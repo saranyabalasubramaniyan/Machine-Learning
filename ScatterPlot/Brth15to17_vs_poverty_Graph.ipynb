{
 "cells": [
  {
   "cell_type": "code",
   "execution_count": 2,
   "id": "b98bb2b3",
   "metadata": {},
   "outputs": [],
   "source": [
    "import pandas as pd"
   ]
  },
  {
   "cell_type": "code",
   "execution_count": 3,
   "id": "34eb29ce",
   "metadata": {},
   "outputs": [],
   "source": [
    "import matplotlib.pyplot as plt"
   ]
  },
  {
   "cell_type": "code",
   "execution_count": 4,
   "id": "8beafa9f",
   "metadata": {},
   "outputs": [],
   "source": [
    "from scipy import stats as st"
   ]
  },
  {
   "cell_type": "code",
   "execution_count": 5,
   "id": "b5133967",
   "metadata": {},
   "outputs": [],
   "source": [
    "loc = (\"teen_birth_vs_poverty.csv\")"
   ]
  },
  {
   "cell_type": "code",
   "execution_count": 7,
   "id": "00964248",
   "metadata": {},
   "outputs": [],
   "source": [
    "dataFile = pd.read_csv(loc)"
   ]
  },
  {
   "cell_type": "code",
   "execution_count": 8,
   "id": "b39a598f",
   "metadata": {},
   "outputs": [],
   "source": [
    "xData = dataFile[\"PovPct\"]"
   ]
  },
  {
   "cell_type": "code",
   "execution_count": 9,
   "id": "b2db0e44",
   "metadata": {},
   "outputs": [],
   "source": [
    "yData = dataFile[\"Brth15to17\"]"
   ]
  },
  {
   "cell_type": "code",
   "execution_count": 10,
   "id": "e2d546b4",
   "metadata": {},
   "outputs": [],
   "source": [
    "slope, intercept, r, p, std_err = st.linregress(xData, yData)"
   ]
  },
  {
   "cell_type": "code",
   "execution_count": 11,
   "id": "b9a3f1a7",
   "metadata": {},
   "outputs": [],
   "source": [
    "def calculateVal(xVal):\n",
    "  return slope * xVal + intercept"
   ]
  },
  {
   "cell_type": "code",
   "execution_count": 12,
   "id": "91ebf063",
   "metadata": {},
   "outputs": [],
   "source": [
    "graphModel = list(map(calculateVal, xData))"
   ]
  },
  {
   "cell_type": "code",
   "execution_count": 13,
   "id": "2a2ce21c",
   "metadata": {},
   "outputs": [
    {
     "data": {
      "text/plain": [
       "<matplotlib.legend.Legend at 0x2aa212e3b50>"
      ]
     },
     "execution_count": 13,
     "metadata": {},
     "output_type": "execute_result"
    },
    {
     "data": {
      "image/png": "[encoded data removed]",
      "text/plain": [
       "<Figure size 432x288 with 1 Axes>"
      ]
     },
     "metadata": {
      "needs_background": "light"
     },
     "output_type": "display_data"
    }
   ],
   "source": [
    "plt.scatter(xData, yData, color='red')\n",
    "plt.plot(xData, graphModel, color='green', linewidth='2')\n",
    "plt.xlabel('Poverty Percent')\n",
    "plt.ylabel('Birth-15to17')\n",
    "plt.title(\"Brth15to17_vs_povertyPercent Graph\")\n",
    "plt.legend(['Fitted Line','Original Data'])"
   ]
  }
 ],
 "metadata": {
  "kernelspec": {
   "display_name": "Python 3 (ipykernel)",
   "language": "python",
   "name": "python3"
  },
  "language_info": {
   "codemirror_mode": {
    "name": "ipython",
    "version": 3
   },
   "file_extension": ".py",
   "mimetype": "text/x-python",
   "name": "python",
   "nbconvert_exporter": "python",
   "pygments_lexer": "ipython3",
   "version": "3.9.7"
  }
 },
 "nbformat": 4,
 "nbformat_minor": 5
}
