{
 "cells": [
  {
   "cell_type": "markdown",
   "metadata": {},
   "source": [
    "<center>\n",
    "<h1> Assignment 4: Multi-Classification</h1>\n",
    "<hr>\n",
    "<h2> Handwritten Digits Image Classification </h2>\n",
    "<hr>\n",
    "<h3> MCIS 6283-Machine Learning </h3>\n",
    "\n",
    "<h3><mark>Due date: April 7, 2022, 11.59 pm</mark></h3>\n",
    "<h3>Total Points: 100</h3>\n",
    "\n",
    "<h4>Instructor: Dr. Mohammad Bhuiyan</h4>\n",
    "\n",
    "\n",
    "</center>"
   ]
  },
  {
   "cell_type": "markdown",
   "metadata": {},
   "source": [
    "### Please put your name, student ID, date and time here \n",
    "* Name: Saranya Balasubramaniyan\n",
    "* Student ID: 999901316\n",
    "* Date: April 03,2022\n",
    "* Time: 5:30 PM"
   ]
  },
  {
   "cell_type": "markdown",
   "metadata": {},
   "source": [
    "* In this assignment, you will investigate the handwritten digits dataset.\n",
    "\n",
    "* Please apply the folowing eight methods to classify the handwritten digits dataset.\n",
    "* Split the dataset into training sets and test sets\n",
    "* Fit the training data sets to the following eight algorithms\n",
    "* Print the classification report on the test data sets\n",
    "\n",
    "<h4>Method 1: KNN</h4>\n",
    "<h4>Method 2: Linear SVM</h4>\n",
    "<h4>Method 3: Gaussian Kernel SVM</h4>\n",
    "<h4>Method 4: Naive Bayes</h4>\n",
    "<h4>Method 5: Decision Tree</h4>   \n",
    "<h4>Method 6: Random Forest</h4> \n",
    "<h4>Method 7: Voting Classifier</h4> \n",
    "<h4>Method 8: Bagging</h4> "
   ]
  },
  {
   "cell_type": "code",
   "execution_count": 36,
   "metadata": {
    "scrolled": true
   },
   "outputs": [
    {
     "name": "stdout",
     "output_type": "stream",
     "text": [
      "{'data': array([[ 0.,  0.,  5., ...,  0.,  0.,  0.],\n",
      "       [ 0.,  0.,  0., ..., 10.,  0.,  0.],\n",
      "       [ 0.,  0.,  0., ..., 16.,  9.,  0.],\n",
      "       ...,\n",
      "       [ 0.,  0.,  1., ...,  6.,  0.,  0.],\n",
      "       [ 0.,  0.,  2., ..., 12.,  0.,  0.],\n",
      "       [ 0.,  0., 10., ..., 12.,  1.,  0.]]), 'target': array([0, 1, 2, ..., 8, 9, 8]), 'frame': None, 'feature_names': ['pixel_0_0', 'pixel_0_1', 'pixel_0_2', 'pixel_0_3', 'pixel_0_4', 'pixel_0_5', 'pixel_0_6', 'pixel_0_7', 'pixel_1_0', 'pixel_1_1', 'pixel_1_2', 'pixel_1_3', 'pixel_1_4', 'pixel_1_5', 'pixel_1_6', 'pixel_1_7', 'pixel_2_0', 'pixel_2_1', 'pixel_2_2', 'pixel_2_3', 'pixel_2_4', 'pixel_2_5', 'pixel_2_6', 'pixel_2_7', 'pixel_3_0', 'pixel_3_1', 'pixel_3_2', 'pixel_3_3', 'pixel_3_4', 'pixel_3_5', 'pixel_3_6', 'pixel_3_7', 'pixel_4_0', 'pixel_4_1', 'pixel_4_2', 'pixel_4_3', 'pixel_4_4', 'pixel_4_5', 'pixel_4_6', 'pixel_4_7', 'pixel_5_0', 'pixel_5_1', 'pixel_5_2', 'pixel_5_3', 'pixel_5_4', 'pixel_5_5', 'pixel_5_6', 'pixel_5_7', 'pixel_6_0', 'pixel_6_1', 'pixel_6_2', 'pixel_6_3', 'pixel_6_4', 'pixel_6_5', 'pixel_6_6', 'pixel_6_7', 'pixel_7_0', 'pixel_7_1', 'pixel_7_2', 'pixel_7_3', 'pixel_7_4', 'pixel_7_5', 'pixel_7_6', 'pixel_7_7'], 'target_names': array([0, 1, 2, 3, 4, 5, 6, 7, 8, 9]), 'images': array([[[ 0.,  0.,  5., ...,  1.,  0.,  0.],\n",
      "        [ 0.,  0., 13., ..., 15.,  5.,  0.],\n",
      "        [ 0.,  3., 15., ..., 11.,  8.,  0.],\n",
      "        ...,\n",
      "        [ 0.,  4., 11., ..., 12.,  7.,  0.],\n",
      "        [ 0.,  2., 14., ..., 12.,  0.,  0.],\n",
      "        [ 0.,  0.,  6., ...,  0.,  0.,  0.]],\n",
      "\n",
      "       [[ 0.,  0.,  0., ...,  5.,  0.,  0.],\n",
      "        [ 0.,  0.,  0., ...,  9.,  0.,  0.],\n",
      "        [ 0.,  0.,  3., ...,  6.,  0.,  0.],\n",
      "        ...,\n",
      "        [ 0.,  0.,  1., ...,  6.,  0.,  0.],\n",
      "        [ 0.,  0.,  1., ...,  6.,  0.,  0.],\n",
      "        [ 0.,  0.,  0., ..., 10.,  0.,  0.]],\n",
      "\n",
      "       [[ 0.,  0.,  0., ..., 12.,  0.,  0.],\n",
      "        [ 0.,  0.,  3., ..., 14.,  0.,  0.],\n",
      "        [ 0.,  0.,  8., ..., 16.,  0.,  0.],\n",
      "        ...,\n",
      "        [ 0.,  9., 16., ...,  0.,  0.,  0.],\n",
      "        [ 0.,  3., 13., ..., 11.,  5.,  0.],\n",
      "        [ 0.,  0.,  0., ..., 16.,  9.,  0.]],\n",
      "\n",
      "       ...,\n",
      "\n",
      "       [[ 0.,  0.,  1., ...,  1.,  0.,  0.],\n",
      "        [ 0.,  0., 13., ...,  2.,  1.,  0.],\n",
      "        [ 0.,  0., 16., ..., 16.,  5.,  0.],\n",
      "        ...,\n",
      "        [ 0.,  0., 16., ..., 15.,  0.,  0.],\n",
      "        [ 0.,  0., 15., ..., 16.,  0.,  0.],\n",
      "        [ 0.,  0.,  2., ...,  6.,  0.,  0.]],\n",
      "\n",
      "       [[ 0.,  0.,  2., ...,  0.,  0.,  0.],\n",
      "        [ 0.,  0., 14., ..., 15.,  1.,  0.],\n",
      "        [ 0.,  4., 16., ..., 16.,  7.,  0.],\n",
      "        ...,\n",
      "        [ 0.,  0.,  0., ..., 16.,  2.,  0.],\n",
      "        [ 0.,  0.,  4., ..., 16.,  2.,  0.],\n",
      "        [ 0.,  0.,  5., ..., 12.,  0.,  0.]],\n",
      "\n",
      "       [[ 0.,  0., 10., ...,  1.,  0.,  0.],\n",
      "        [ 0.,  2., 16., ...,  1.,  0.,  0.],\n",
      "        [ 0.,  0., 15., ..., 15.,  0.,  0.],\n",
      "        ...,\n",
      "        [ 0.,  4., 16., ..., 16.,  6.,  0.],\n",
      "        [ 0.,  8., 16., ..., 16.,  8.,  0.],\n",
      "        [ 0.,  1.,  8., ..., 12.,  1.,  0.]]]), 'DESCR': \".. _digits_dataset:\\n\\nOptical recognition of handwritten digits dataset\\n--------------------------------------------------\\n\\n**Data Set Characteristics:**\\n\\n    :Number of Instances: 1797\\n    :Number of Attributes: 64\\n    :Attribute Information: 8x8 image of integer pixels in the range 0..16.\\n    :Missing Attribute Values: None\\n    :Creator: E. Alpaydin (alpaydin '@' boun.edu.tr)\\n    :Date: July; 1998\\n\\nThis is a copy of the test set of the UCI ML hand-written digits datasets\\nhttps://archive.ics.uci.edu/ml/datasets/Optical+Recognition+of+Handwritten+Digits\\n\\nThe data set contains images of hand-written digits: 10 classes where\\neach class refers to a digit.\\n\\nPreprocessing programs made available by NIST were used to extract\\nnormalized bitmaps of handwritten digits from a preprinted form. From a\\ntotal of 43 people, 30 contributed to the training set and different 13\\nto the test set. 32x32 bitmaps are divided into nonoverlapping blocks of\\n4x4 and the number of on pixels are counted in each block. This generates\\nan input matrix of 8x8 where each element is an integer in the range\\n0..16. This reduces dimensionality and gives invariance to small\\ndistortions.\\n\\nFor info on NIST preprocessing routines, see M. D. Garris, J. L. Blue, G.\\nT. Candela, D. L. Dimmick, J. Geist, P. J. Grother, S. A. Janet, and C.\\nL. Wilson, NIST Form-Based Handprint Recognition System, NISTIR 5469,\\n1994.\\n\\n.. topic:: References\\n\\n  - C. Kaynak (1995) Methods of Combining Multiple Classifiers and Their\\n    Applications to Handwritten Digit Recognition, MSc Thesis, Institute of\\n    Graduate Studies in Science and Engineering, Bogazici University.\\n  - E. Alpaydin, C. Kaynak (1998) Cascading Classifiers, Kybernetika.\\n  - Ken Tang and Ponnuthurai N. Suganthan and Xi Yao and A. Kai Qin.\\n    Linear dimensionalityreduction using relevance weighted LDA. School of\\n    Electrical and Electronic Engineering Nanyang Technological University.\\n    2005.\\n  - Claudio Gentile. A New Approximate Maximal Margin Classification\\n    Algorithm. NIPS. 2000.\\n\"}\n"
     ]
    }
   ],
   "source": [
    "# Importing the dataset\n",
    "from sklearn.datasets import load_digits\n",
    "digits = load_digits()\n",
    "print(digits)"
   ]
  },
  {
   "cell_type": "code",
   "execution_count": 37,
   "metadata": {
    "scrolled": true
   },
   "outputs": [
    {
     "data": {
      "image/png": "[encoded data removed]",
      "text/plain": [
       "<Figure size 432x288 with 4 Axes>"
      ]
     },
     "metadata": {
      "needs_background": "light"
     },
     "output_type": "display_data"
    }
   ],
   "source": [
    "import matplotlib.pyplot as plt\n",
    "digits.images[0].shape\n",
    "list = [10,100,100,45]\n",
    "fig = plt.figure()\n",
    "for i,j in enumerate(list):\n",
    "    plt.subplot(2,2,i+1)\n",
    "    plt.imshow(digits.images[j],cmap='gray')"
   ]
  },
  {
   "cell_type": "code",
   "execution_count": 38,
   "metadata": {},
   "outputs": [],
   "source": [
    "X =  digits.data\n",
    "y =  digits.target"
   ]
  },
  {
   "cell_type": "markdown",
   "metadata": {
    "collapsed": true
   },
   "source": [
    "## Step 1. Split the dataset into training data and testing data (<mark>10 points</mark>)"
   ]
  },
  {
   "cell_type": "code",
   "execution_count": 39,
   "metadata": {},
   "outputs": [],
   "source": [
    "from sklearn.model_selection import train_test_split\n",
    "X_train, X_test, y_train, y_test = train_test_split(X, y, test_size = 1/3, random_state = 0, stratify = y)"
   ]
  },
  {
   "cell_type": "markdown",
   "metadata": {},
   "source": [
    "## Step 2. Algorithm Analysis (<mark>80 points</mark>)"
   ]
  },
  {
   "cell_type": "markdown",
   "metadata": {},
   "source": [
    "## Method 1. KNN"
   ]
  },
  {
   "cell_type": "code",
   "execution_count": 40,
   "metadata": {},
   "outputs": [
    {
     "name": "stdout",
     "output_type": "stream",
     "text": [
      "[[59  0  0  0  0  0  0  0  0  0]\n",
      " [ 0 61  0  0  0  0  0  0  0  0]\n",
      " [ 0  0 59  0  0  0  0  0  0  0]\n",
      " [ 0  0  0 58  0  1  0  1  0  1]\n",
      " [ 0  1  0  0 59  0  0  0  0  0]\n",
      " [ 0  0  0  0  0 61  0  0  0  0]\n",
      " [ 0  0  0  0  0  0 60  0  0  0]\n",
      " [ 0  0  0  0  0  0  0 60  0  0]\n",
      " [ 0  3  0  1  0  0  0  0 54  0]\n",
      " [ 0  0  0  2  0  0  0  0  0 58]]\n",
      "              precision    recall  f1-score   support\n",
      "\n",
      "           0       1.00      1.00      1.00        59\n",
      "           1       0.94      1.00      0.97        61\n",
      "           2       1.00      1.00      1.00        59\n",
      "           3       0.95      0.95      0.95        61\n",
      "           4       1.00      0.98      0.99        60\n",
      "           5       0.98      1.00      0.99        61\n",
      "           6       1.00      1.00      1.00        60\n",
      "           7       0.98      1.00      0.99        60\n",
      "           8       1.00      0.93      0.96        58\n",
      "           9       0.98      0.97      0.97        60\n",
      "\n",
      "    accuracy                           0.98       599\n",
      "   macro avg       0.98      0.98      0.98       599\n",
      "weighted avg       0.98      0.98      0.98       599\n",
      "\n",
      "pre_0 0.92\n",
      "pre_1 0.84\n",
      "recall_0 0.91\n",
      "recall_1 0.85\n",
      "micro 0.89\n",
      "macro 0.88\n",
      "weighted 0.89\n"
     ]
    },
    {
     "data": {
      "image/png": "[encoded data removed]",
      "text/plain": [
       "<Figure size 432x288 with 1 Axes>"
      ]
     },
     "metadata": {
      "needs_background": "light"
     },
     "output_type": "display_data"
    }
   ],
   "source": [
    "from sklearn.neighbors import KNeighborsClassifier\n",
    "classifier = KNeighborsClassifier(n_neighbors = 3, p = 2)\n",
    "# Fitting classifier to the Training set\n",
    "classifier.fit(X_train,y_train)\n",
    "\n",
    "# Predicting the Test set results\n",
    "y_pred = classifier.predict(X_test)\n",
    "\n",
    "# Making the Confusion Matrix\n",
    "from sklearn.metrics import confusion_matrix\n",
    "from sklearn.metrics import classification_report\n",
    "cm = confusion_matrix(y_test, y_pred)\n",
    "print(cm)\n",
    "report = classification_report(y_test, y_pred)\n",
    "print(report)\n",
    "\n",
    "#precision = TP/(TP+FP)\n",
    "print(\"pre_0 {0:.2f}\".format(78/(78+7)))\n",
    "print(\"pre_1 {0:.2f}\".format(41/(41+8)))\n",
    "\n",
    "#recall = TP / (TP + FN)\n",
    "print(\"recall_0 {0:.2f}\".format(78/(78+8)))\n",
    "print(\"recall_1 {0:.2f}\".format(41/(41+7)))\n",
    "\n",
    "#Micro\n",
    "print(\"micro {0:.2f}\".format((78+41)/(78+41+7+8)))\n",
    "\n",
    "#Macro\n",
    "print(\"macro {0:.2f}\".format((0.92+0.84)/2))\n",
    "\n",
    "#Weighted\n",
    "print(\"weighted {0:.2f}\".format(86/134*0.92+48/134*0.84))\n",
    "\n",
    "import numpy as np\n",
    "\n",
    "###Overfitting and underfitting\n",
    "\n",
    "# Setup arrays to store train and test accuracies\n",
    "neighbors = np.arange(1, 18)\n",
    "train_accuracy = np.empty(len(neighbors))\n",
    "test_accuracy = np.empty(len(neighbors))\n",
    "\n",
    "# Loop over different values of k\n",
    "for i, k in enumerate(neighbors):\n",
    "    # Setup a k-NN Classifier with k neighbors: knn\n",
    "    knn = KNeighborsClassifier(n_neighbors = k)\n",
    "\n",
    "    # Fit the classifier to the training data\n",
    "    knn.fit(X_train,y_train)\n",
    "    \n",
    "    #Compute accuracy on the training set\n",
    "    train_accuracy[i] = knn.score(X_train, y_train)\n",
    "\n",
    "    #Compute accuracy on the testing set\n",
    "    test_accuracy[i] = knn.score(X_test, y_test)\n",
    "\n",
    "# Generating plot\n",
    "plt.figure()\n",
    "plt.title('k-NN: Varying Number of Neighbors')\n",
    "plt.plot(neighbors, test_accuracy, label = 'Testing Accuracy')\n",
    "plt.plot(neighbors, train_accuracy, label = 'Training Accuracy')\n",
    "plt.legend()\n",
    "plt.xlabel('Number of Neighbors')\n",
    "plt.ylabel('Accuracy')\n",
    "plt.show()"
   ]
  },
  {
   "cell_type": "markdown",
   "metadata": {},
   "source": [
    "## Method 2. Linear SVM"
   ]
  },
  {
   "cell_type": "code",
   "execution_count": 41,
   "metadata": {},
   "outputs": [
    {
     "name": "stdout",
     "output_type": "stream",
     "text": [
      "              precision    recall  f1-score   support\n",
      "\n",
      "           0       0.98      1.00      0.99        59\n",
      "           1       0.94      1.00      0.97        61\n",
      "           2       1.00      1.00      1.00        59\n",
      "           3       0.98      0.97      0.98        61\n",
      "           4       1.00      1.00      1.00        60\n",
      "           5       0.95      1.00      0.98        61\n",
      "           6       1.00      0.97      0.98        60\n",
      "           7       0.98      1.00      0.99        60\n",
      "           8       1.00      0.90      0.95        58\n",
      "           9       0.97      0.97      0.97        60\n",
      "\n",
      "    accuracy                           0.98       599\n",
      "   macro avg       0.98      0.98      0.98       599\n",
      "weighted avg       0.98      0.98      0.98       599\n",
      "\n"
     ]
    }
   ],
   "source": [
    "from sklearn.svm import SVC # \"Support vector classifier\"\n",
    "linear_svm = SVC(kernel='linear')\n",
    "linear_svm.fit(X_train, y_train)\n",
    "# Predicting the Test set results\n",
    "y_pred = linear_svm.predict(X_test)\n",
    "\n",
    "report = classification_report(y_test, y_pred)\n",
    "print(report)"
   ]
  },
  {
   "cell_type": "markdown",
   "metadata": {},
   "source": [
    "## Method 3. Gaussian Kernal SVM"
   ]
  },
  {
   "cell_type": "code",
   "execution_count": 42,
   "metadata": {},
   "outputs": [
    {
     "name": "stdout",
     "output_type": "stream",
     "text": [
      "              precision    recall  f1-score   support\n",
      "\n",
      "           0       1.00      0.98      0.99        59\n",
      "           1       0.94      1.00      0.97        61\n",
      "           2       1.00      1.00      1.00        59\n",
      "           3       1.00      0.97      0.98        61\n",
      "           4       0.98      0.97      0.97        60\n",
      "           5       0.97      1.00      0.98        61\n",
      "           6       1.00      1.00      1.00        60\n",
      "           7       0.98      1.00      0.99        60\n",
      "           8       0.96      0.93      0.95        58\n",
      "           9       1.00      0.98      0.99        60\n",
      "\n",
      "    accuracy                           0.98       599\n",
      "   macro avg       0.98      0.98      0.98       599\n",
      "weighted avg       0.98      0.98      0.98       599\n",
      "\n"
     ]
    }
   ],
   "source": [
    "kernal_rbf = SVC(kernel='rbf')\n",
    "kernal_rbf.fit(X_train, y_train)\n",
    "y_pred = kernal_rbf.predict(X_test)\n",
    "\n",
    "report = classification_report(y_test, y_pred)\n",
    "print(report)"
   ]
  },
  {
   "cell_type": "markdown",
   "metadata": {},
   "source": [
    "## Method 4. Naive Bayes"
   ]
  },
  {
   "cell_type": "code",
   "execution_count": 43,
   "metadata": {},
   "outputs": [
    {
     "name": "stdout",
     "output_type": "stream",
     "text": [
      "              precision    recall  f1-score   support\n",
      "\n",
      "           0       0.98      0.95      0.97        59\n",
      "           1       0.79      0.82      0.81        61\n",
      "           2       0.94      0.53      0.67        59\n",
      "           3       0.91      0.64      0.75        61\n",
      "           4       0.93      0.88      0.91        60\n",
      "           5       0.95      0.87      0.91        61\n",
      "           6       0.98      0.97      0.97        60\n",
      "           7       0.83      1.00      0.91        60\n",
      "           8       0.46      0.93      0.62        58\n",
      "           9       0.93      0.65      0.76        60\n",
      "\n",
      "    accuracy                           0.82       599\n",
      "   macro avg       0.87      0.82      0.83       599\n",
      "weighted avg       0.87      0.82      0.83       599\n",
      "\n"
     ]
    }
   ],
   "source": [
    "from sklearn.naive_bayes import GaussianNB\n",
    "nb_clf = GaussianNB()\n",
    "nb_clf.fit(X_train, y_train)\n",
    "y_pred = nb_clf.predict(X_test)\n",
    "\n",
    "report = classification_report(y_test, y_pred)\n",
    "print(report)"
   ]
  },
  {
   "cell_type": "markdown",
   "metadata": {},
   "source": [
    "## Method 5. Decision Tree"
   ]
  },
  {
   "cell_type": "code",
   "execution_count": 44,
   "metadata": {},
   "outputs": [
    {
     "name": "stdout",
     "output_type": "stream",
     "text": [
      "              precision    recall  f1-score   support\n",
      "\n",
      "           0       0.95      0.95      0.95        59\n",
      "           1       0.79      0.72      0.75        61\n",
      "           2       0.93      0.86      0.89        59\n",
      "           3       0.82      0.77      0.80        61\n",
      "           4       0.82      0.82      0.82        60\n",
      "           5       0.93      0.89      0.91        61\n",
      "           6       0.89      0.90      0.89        60\n",
      "           7       0.87      0.92      0.89        60\n",
      "           8       0.68      0.83      0.74        58\n",
      "           9       0.75      0.73      0.74        60\n",
      "\n",
      "    accuracy                           0.84       599\n",
      "   macro avg       0.84      0.84      0.84       599\n",
      "weighted avg       0.84      0.84      0.84       599\n",
      "\n"
     ]
    }
   ],
   "source": [
    "from sklearn.tree import DecisionTreeClassifier\n",
    "clf_dt = DecisionTreeClassifier()\n",
    "clf_dt.fit(X_train, y_train)\n",
    "# Predicting the Test set results\n",
    "y_pred = clf_dt.predict(X_test)\n",
    "\n",
    "report = classification_report(y_test, y_pred)\n",
    "print(report)                  "
   ]
  },
  {
   "cell_type": "markdown",
   "metadata": {},
   "source": [
    "## Method 6. Random Forest"
   ]
  },
  {
   "cell_type": "code",
   "execution_count": 45,
   "metadata": {},
   "outputs": [
    {
     "name": "stdout",
     "output_type": "stream",
     "text": [
      "training accuracy: 1.000\n",
      "testing accuracy: 0.975\n",
      "              precision    recall  f1-score   support\n",
      "\n",
      "           0       1.00      0.97      0.98        59\n",
      "           1       0.97      1.00      0.98        61\n",
      "           2       1.00      1.00      1.00        59\n",
      "           3       0.97      0.95      0.96        61\n",
      "           4       0.97      0.98      0.98        60\n",
      "           5       0.94      0.98      0.96        61\n",
      "           6       1.00      0.98      0.99        60\n",
      "           7       0.95      1.00      0.98        60\n",
      "           8       1.00      0.95      0.97        58\n",
      "           9       0.97      0.93      0.95        60\n",
      "\n",
      "    accuracy                           0.97       599\n",
      "   macro avg       0.98      0.97      0.98       599\n",
      "weighted avg       0.98      0.97      0.97       599\n",
      "\n"
     ]
    }
   ],
   "source": [
    "from sklearn.ensemble import RandomForestClassifier\n",
    "rf = RandomForestClassifier(n_estimators = 300)\n",
    "rf.fit(X_train, y_train)\n",
    "# Predicting the Test set results\n",
    "y_pred = rf.predict(X_test)\n",
    "print(\"training accuracy: {:.3f}\".format(rf.score(X_train,y_train)))\n",
    "print(\"testing accuracy: {:.3f}\".format(rf.score(X_test,y_test)))\n",
    "\n",
    "report = classification_report(y_test, y_pred)\n",
    "print(report)"
   ]
  },
  {
   "cell_type": "markdown",
   "metadata": {
    "collapsed": true
   },
   "source": [
    "## Method 7. Voting Classifier"
   ]
  },
  {
   "cell_type": "code",
   "execution_count": 46,
   "metadata": {},
   "outputs": [
    {
     "name": "stdout",
     "output_type": "stream",
     "text": [
      "              precision    recall  f1-score   support\n",
      "\n",
      "           0       1.00      0.98      0.99        59\n",
      "           1       0.95      1.00      0.98        61\n",
      "           2       1.00      1.00      1.00        59\n",
      "           3       0.98      0.97      0.98        61\n",
      "           4       0.97      1.00      0.98        60\n",
      "           5       0.97      1.00      0.98        61\n",
      "           6       1.00      0.98      0.99        60\n",
      "           7       0.98      1.00      0.99        60\n",
      "           8       1.00      0.95      0.97        58\n",
      "           9       1.00      0.97      0.98        60\n",
      "\n",
      "    accuracy                           0.98       599\n",
      "   macro avg       0.99      0.98      0.98       599\n",
      "weighted avg       0.99      0.98      0.98       599\n",
      "\n"
     ]
    }
   ],
   "source": [
    "from sklearn.ensemble import VotingClassifier\n",
    "\n",
    "# Instantiate individual classifiers\n",
    "SEED = 1\n",
    "rf = RandomForestClassifier(n_estimators = 300)\n",
    "knn = KNeighborsClassifier(n_neighbors = 3, p = 2)\n",
    "dt = DecisionTreeClassifier(random_state = SEED)\n",
    "nb = GaussianNB()\n",
    "kernal_rbf = SVC(kernel='rbf')\n",
    "kernal_poly = SVC(kernel='poly',degree=3)\n",
    "linear_svm = SVC(kernel='linear')\n",
    "\n",
    "#Define a list called classifier that contains\n",
    "#the tuples (classifier_name, classifier)\n",
    "classifiers = [('Random Forest',rf),\n",
    "               ('K Nearest Neighbours',knn),\n",
    "               ('Classification Tree',dt),\n",
    "               ('Naive',nb),\n",
    "               ('RBF',kernal_rbf),\n",
    "               ('POLY',kernal_poly),\n",
    "               ('SVM',linear_svm)]\n",
    "\n",
    "#Instantiate a VotingClassifier 'vc'\n",
    "vc = VotingClassifier(estimators=classifiers)\n",
    "#Fit 'vc' to the train set\n",
    "vc.fit(X_train,y_train)\n",
    "#Predict test set labels\n",
    "y_pred = vc.predict(X_test)\n",
    "\n",
    "report = classification_report(y_test, y_pred)\n",
    "print(report)"
   ]
  },
  {
   "cell_type": "markdown",
   "metadata": {
    "collapsed": true
   },
   "source": [
    "## Method 8. Bagging"
   ]
  },
  {
   "cell_type": "code",
   "execution_count": 48,
   "metadata": {},
   "outputs": [
    {
     "name": "stdout",
     "output_type": "stream",
     "text": [
      "              precision    recall  f1-score   support\n",
      "\n",
      "           0       1.00      1.00      1.00        59\n",
      "           1       0.97      1.00      0.98        61\n",
      "           2       1.00      1.00      1.00        59\n",
      "           3       0.95      0.97      0.96        61\n",
      "           4       1.00      1.00      1.00        60\n",
      "           5       0.97      1.00      0.98        61\n",
      "           6       1.00      1.00      1.00        60\n",
      "           7       0.98      1.00      0.99        60\n",
      "           8       1.00      0.95      0.97        58\n",
      "           9       1.00      0.95      0.97        60\n",
      "\n",
      "    accuracy                           0.99       599\n",
      "   macro avg       0.99      0.99      0.99       599\n",
      "weighted avg       0.99      0.99      0.99       599\n",
      "\n"
     ]
    }
   ],
   "source": [
    "from sklearn.ensemble import BaggingClassifier\n",
    "# Instantiate a classifier KNN\n",
    "knn = KNeighborsClassifier(n_neighbors = 3, p = 2)\n",
    "# Instantiate a BaggingClassifier 'bc'\n",
    "bc = BaggingClassifier(base_estimator=knn, n_estimators = 100, n_jobs=-1)\n",
    "\n",
    "#Fit 'bc' to the train set\n",
    "bc.fit(X_train,y_train)\n",
    "#Predict test set labels\n",
    "y_pred = bc.predict(X_test)\n",
    "\n",
    "report = classification_report(y_test, y_pred)\n",
    "print(report)"
   ]
  },
  {
   "cell_type": "markdown",
   "metadata": {
    "collapsed": true
   },
   "source": [
    "## Step 3: Accuracy Results Table (<mark>8 points</mark>)"
   ]
  },
  {
   "cell_type": "markdown",
   "metadata": {
    "collapsed": true
   },
   "source": [
    "<table>\n",
    "    <thead>\n",
    "        <tr>\n",
    "            <th></th>\n",
    "            <th>KNN</th>\n",
    "            <th>L_SVM</th>\n",
    "            <th>RBF_SVM</th>\n",
    "            <th>NB</th>\n",
    "            <th>DT</th>\n",
    "            <th>RF</th>\n",
    "            <th>Voting</th>\n",
    "            <th>Bagging</th>\n",
    "        </tr>\n",
    "    </thead>\n",
    "    <tbody>\n",
    "        <tr>\n",
    "            <td>Accuracy</td>\n",
    "            <td>0.98</td>\n",
    "            <td>0.98</td>\n",
    "            <td>0.98</td>\n",
    "            <td>0.82</td>\n",
    "            <td>0.85</td>\n",
    "            <td>0.97</td>\n",
    "            <td>0.98</td>\n",
    "            <td>0.99</td>\n",
    "        </tr>\n",
    "        <tr>\n",
    "            <td>Weighted Precision</td>\n",
    "            <td>0.98</td>\n",
    "            <td>0.98</td>\n",
    "            <td>0.98</td>\n",
    "            <td>0.87</td>\n",
    "            <td>0.85</td>\n",
    "            <td>0.97</td>\n",
    "            <td>0.99</td>\n",
    "            <td>0.99</td>\n",
    "        </tr>\n",
    "        <tr>\n",
    "            <td>Weighted Recall</td>\n",
    "            <td>0.98</td>\n",
    "            <td>0.98</td>\n",
    "            <td>0.98</td>\n",
    "            <td>0.82</td>\n",
    "            <td>0.85</td>\n",
    "            <td>0.97</td>\n",
    "            <td>0.98</td>\n",
    "            <td>0.99</td>\n",
    "        </tr>\n",
    "    </tbody>\n",
    "</table>"
   ]
  },
  {
   "cell_type": "markdown",
   "metadata": {},
   "source": [
    "## Step 4: Conclusion (<mark>2 Points</mark>)"
   ]
  },
  {
   "cell_type": "code",
   "execution_count": null,
   "metadata": {
    "collapsed": true
   },
   "outputs": [],
   "source": [
    "For the given data in the digits, Bagging method has the highest Accuracy, Weighted Precision and Weighted Recall. "
   ]
  },
  {
   "cell_type": "code",
   "execution_count": null,
   "metadata": {
    "collapsed": true
   },
   "outputs": [],
   "source": [
    "On multiple executions, it is observed that even Voting method exhibits high values of Weighted Precision, Accuracy and Recall"
   ]
  },
  {
   "cell_type": "code",
   "execution_count": null,
   "metadata": {
    "collapsed": true
   },
   "outputs": [],
   "source": [
    "The least value of Accuracy and Weighted Recall is observed in Naive Bayes Method and the least value of Precision is observed in Decision Tree."
   ]
  },
  {
   "cell_type": "code",
   "execution_count": null,
   "metadata": {
    "collapsed": true
   },
   "outputs": [],
   "source": [
    "So Bagging is the best classifier for the given data."
   ]
  }
 ],
 "metadata": {
  "kernelspec": {
   "display_name": "Python 3 (ipykernel)",
   "language": "python",
   "name": "python3"
  },
  "language_info": {
   "codemirror_mode": {
    "name": "ipython",
    "version": 3
   },
   "file_extension": ".py",
   "mimetype": "text/x-python",
   "name": "python",
   "nbconvert_exporter": "python",
   "pygments_lexer": "ipython3",
   "version": "3.9.7"
  }
 },
 "nbformat": 4,
 "nbformat_minor": 2
}
